{
 "cells": [
  {
   "cell_type": "markdown",
   "metadata": {},
   "source": [
    "# Classification Learning\n",
    "## 术语：\n",
    "####  Instances  -- （Input ）\n",
    "#### Concept -- Function \n",
    "    就是世界上的物体之间的映射以及一个集合中的成员关系。\n",
    "#### Target Concept -- Answer \n",
    "#### Hypothesis Class -- 愿意考虑的所有概念的集合\n",
    "#### Sample（Training Set）\n",
    "#### Candidate -- 一个认为可能会是目标概念的概念\n",
    "#### Testing Set \n"
   ]
  },
  {
   "cell_type": "markdown",
   "metadata": {},
   "source": [
    "# 决策树\n",
    "Decision Trees: Learning\n",
    "1. Pick Best Attribute  \n",
    "2. Asked Question  \n",
    "3. Follow the answer path  \n",
    "4. Go to 1\n",
    "...recurrent  \n",
    "Util Got An Answer.  "
   ]
  },
  {
   "cell_type": "code",
   "execution_count": null,
   "metadata": {},
   "outputs": [],
   "source": []
  }
 ],
 "metadata": {
  "kernelspec": {
   "display_name": "Python 3",
   "language": "python",
   "name": "python3"
  },
  "language_info": {
   "codemirror_mode": {
    "name": "ipython",
    "version": 3
   },
   "file_extension": ".py",
   "mimetype": "text/x-python",
   "name": "python",
   "nbconvert_exporter": "python",
   "pygments_lexer": "ipython3",
   "version": "3.6.5"
  }
 },
 "nbformat": 4,
 "nbformat_minor": 2
}
