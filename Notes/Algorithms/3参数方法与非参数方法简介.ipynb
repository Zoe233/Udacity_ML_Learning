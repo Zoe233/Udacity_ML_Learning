{
 "cells": [
  {
   "cell_type": "markdown",
   "metadata": {},
   "source": [
    "# 参数回归Parametric Regression\n",
    "- Polynomial Regression 多项式回归 $y = w_{0} + w_{1}x_{1} + w_{2}x_{2} + ... + w_{n}x_{n}$\n",
    "- K最近算法 KNN \n",
    "- 核回归 Kernal Regression\n",
    "\n",
    "KNN和核回归的主要区别： \n",
    "在核回归中，我们根据它们的距离，对每个最近的数据点的贡献进行加权。   \n",
    "我们考虑的每个数据点基本上会获得同等加权。"
   ]
  },
  {
   "cell_type": "markdown",
   "metadata": {},
   "source": [
    "## 参数方法（parameter）与非参数方法(non-parameter）\n",
    "\n",
    "参数方法表示参数固定，不随数据点的变化而变化；    \n",
    "非参数方法并不意味着没有参数，而是说，参数的数目随着数据点而变化。   \n",
    "\n",
    "1. 参数方法举例\n",
    "    - 逻辑回归 logistic regression:     \n",
    "        $p(y=1 | x, \\alpha) = \\frac{1}{1+exp(-x^{T}\\alpha)}$     \n",
    "        显然参数，$\\alpha$的维数会随着数据集属性列个数的变化而变化，而不是随着数据规模的变化而变化。\n",
    "        \n",
    "2. 非参数方法举例\n",
    "    - K最近邻算法 K Nearest-Neighbor:\n",
    "        比如一个二分类问题，新来一个测试点，当要计算其所属类别时，需要与全部训练集计算距离。"
   ]
  },
  {
   "cell_type": "markdown",
   "metadata": {},
   "source": [
    "### 延伸：\n",
    "机器学习上的方法分为**参数方法**和**非参数方法**。\n",
    "\n",
    "#### 参数方法：\n",
    "根据先验知识假定模型服从某种分布，然后利用训练集估计出模型参数，也就是弄清楚了整个模型。   \n",
    "那么，估计模型参数到底是一个客观存在的参数还是一个概率密度分布，这个分歧就引起了贝叶斯学派和非贝叶斯学派的不同之处。  \n",
    "- **非贝叶斯学派**\n",
    "    - 非贝叶斯学派认为先验知识是指一组数据服从某个分布，那么分布的参数是客观存在的，可以利用数据做出估计，进而获得后验估计。\n",
    "    - 典型代表方法是**最大似然估计**。\n",
    "- **贝叶斯学派**\n",
    "    - 贝叶斯学派认为，先验知识是数据服从某个分布和这个分布参数的先验概率密度，模型的参数本来就是一个概率分布，数据集可以获得参数的后验概率密度，进而获得后验估计。\n",
    "    - 这种方法称为贝叶斯估计。\n",
    "    \n",
    "##### 参数估计的泛化误差：\n",
    "泛化误差由**方差**和**偏倚**组成。（variance， bias）       \n",
    "$E(d-\\theta)^{2} = E((d - Ed) + (Ed - \\theta))^{2} = Var(d) + (Ed - \\theta)^2$    \n",
    "underfitting时，bias bigger, variance smaller;    \n",
    "overfitting时，bias smaller, variance bigger.  \n",
    "\n",
    "#### 非参数方法：\n",
    "基于记忆训练集，然后根据训练集预测。\n",
    "\n"
   ]
  },
  {
   "cell_type": "code",
   "execution_count": null,
   "metadata": {},
   "outputs": [],
   "source": []
  },
  {
   "cell_type": "code",
   "execution_count": null,
   "metadata": {},
   "outputs": [],
   "source": []
  },
  {
   "cell_type": "code",
   "execution_count": null,
   "metadata": {},
   "outputs": [],
   "source": []
  },
  {
   "cell_type": "code",
   "execution_count": null,
   "metadata": {},
   "outputs": [],
   "source": []
  },
  {
   "cell_type": "code",
   "execution_count": null,
   "metadata": {},
   "outputs": [],
   "source": []
  }
 ],
 "metadata": {
  "kernelspec": {
   "display_name": "Python 3",
   "language": "python",
   "name": "python3"
  },
  "language_info": {
   "codemirror_mode": {
    "name": "ipython",
    "version": 3
   },
   "file_extension": ".py",
   "mimetype": "text/x-python",
   "name": "python",
   "nbconvert_exporter": "python",
   "pygments_lexer": "ipython3",
   "version": "3.6.5"
  }
 },
 "nbformat": 4,
 "nbformat_minor": 2
}
