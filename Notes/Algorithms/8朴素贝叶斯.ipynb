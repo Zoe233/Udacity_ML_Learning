{
 "cells": [
  {
   "cell_type": "markdown",
   "metadata": {},
   "source": [
    "# 8. 朴素贝叶斯"
   ]
  },
  {
   "cell_type": "markdown",
   "metadata": {},
   "source": [
    "## 官方文档示例"
   ]
  },
  {
   "cell_type": "code",
   "execution_count": 1,
   "metadata": {},
   "outputs": [
    {
     "name": "stdout",
     "output_type": "stream",
     "text": [
      "[1]\n",
      "[1]\n"
     ]
    }
   ],
   "source": [
    "import numpy as np\n",
    "X = np.array([[-1, -1], [-2, -1], [-3, -2], [1, 1], [2, 1], [3, 2]])\n",
    "Y = np.array([1, 1, 1, 2, 2, 2])\n",
    "\n",
    "from sklearn.naive_bayes import GaussianNB\n",
    "clf = GaussianNB()\n",
    "clf.fit(X, Y)\n",
    "\n",
    "print(clf.predict([[-0.8, -1]]))\n",
    "\n",
    "clf_pf = GaussianNB()\n",
    "clf_pf.partial_fit(X, Y, np.unique(Y))\n",
    "print(clf_pf.predict([[-0.8, -1]]))"
   ]
  },
  {
   "cell_type": "markdown",
   "metadata": {},
   "source": [
    "# Bayes Rule 贝叶斯规则"
   ]
  },
  {
   "cell_type": "markdown",
   "metadata": {},
   "source": [
    "题目：癌症检查呈现阳性和阴性的情况。\n",
    "\n",
    "### Prior Probability 先验概率：  \n",
    "    $$ P(Cancer) = 0.01 $$\n",
    "    $$ P(\\neg Cancer) = 0.99 $$\n",
    "    $$ P(Pos | Cancer) = 0.9 $$ \n",
    "    $$ P(Neg | Cancer) = 0.1 $$\n",
    "    $$ P(Pos | \\neg Cancer) = 0.1 $$ \n",
    "    $$ P(Neg | \\neg Cancer) = 0.9 $$"
   ]
  },
  {
   "cell_type": "markdown",
   "metadata": {},
   "source": [
    "### Joint Probability 联合概率：\n",
    "$$ P(Cancer, Pos) = P(Cancer) * P(Pos | Cancer) = 0.01 * 0.9 = 0.009$$\n",
    "$$ P(\\neg Cancer, Pos) = P(\\neg Cancer) * P(Pos | \\neg Cancer) = 0.99 * 0.1 = 0.099$$"
   ]
  },
  {
   "cell_type": "markdown",
   "metadata": {},
   "source": [
    "### Normalizer 标准化：\n",
    "$$P(Pos) = P(Cancer, Pos) + P(\\neg Cancer, Pos) = 0.009 + 0.099 = 0.108 $$"
   ]
  },
  {
   "cell_type": "markdown",
   "metadata": {},
   "source": [
    "### Posterior Probability 后验概率：\n",
    "$$P(Cancer | Pos) = \\frac{P(Pos|Cancer)P(Cancer)}{P(Pos)} =\\frac{0.9*0.01}{0.108} = 0.08333$$\n",
    "$$P(\\neg Cancer | Pos) =\\frac{P(Pos|\\neg Cancer) P(\\neg Cancer)}{P(Pos)} = \\frac{0.1*0.99}{0.108} = 0.916666$$"
   ]
  },
  {
   "cell_type": "markdown",
   "metadata": {},
   "source": [
    "全概率：\n",
    "$P(Cancer|Pos) + P(\\neg Cancer|Pos) = 1 $$"
   ]
  },
  {
   "cell_type": "markdown",
   "metadata": {},
   "source": [
    "----"
   ]
  },
  {
   "cell_type": "markdown",
   "metadata": {},
   "source": [
    "![title](../images/why_naive_bayes.png)"
   ]
  },
  {
   "cell_type": "markdown",
   "metadata": {},
   "source": [
    "# Bayesian Learnings\n",
    "## MAP (Maximum a posteriori hypothesis) 最大后验假设\n",
    "对于任意 $h\\in H$:   \n",
    "    calculate $$P(h | D) \\simeq P(D|h)P(h) $$   \n",
    "    此处忽略计算原本要除去的$P(D)$，因为这个先验概率非常难以计算，而我们输出的结果实际上是为了：\n",
    "    \n",
    "OUTPUT:\n",
    "    $$ h_{map} = argmax_{h \\in H} P(h|D) = P(D|h)P(h) $$\n",
    "    \n",
    "- weighted vote $h \\in H$ , $P(h|D)$\n",
    " \n",
    "## ML (Maximum likelihood hypothesis) 最大似然假设\n",
    " 当我们将$P(h|D)$假设为等可能的，则只需要计算：\n",
    " $$ h_{ml} = argmax_{h \\in H} P(D|h) $$ \n",
    " 此处，由于假设$P(h|D)$是等可能的，在比较计算的时候可以忽略该项。"
   ]
  },
  {
   "cell_type": "markdown",
   "metadata": {},
   "source": [
    "### 问题：\n",
    "从数据计算的角度而言，是不可行的，因为诸多的假设空间，比如像Liner separators，实际上是无限的。所以很难直接使用这个算法。"
   ]
  },
  {
   "cell_type": "code",
   "execution_count": null,
   "metadata": {},
   "outputs": [],
   "source": []
  }
 ],
 "metadata": {
  "kernelspec": {
   "display_name": "Python 3",
   "language": "python",
   "name": "python3"
  },
  "language_info": {
   "codemirror_mode": {
    "name": "ipython",
    "version": 3
   },
   "file_extension": ".py",
   "mimetype": "text/x-python",
   "name": "python",
   "nbconvert_exporter": "python",
   "pygments_lexer": "ipython3",
   "version": "3.6.5"
  }
 },
 "nbformat": 4,
 "nbformat_minor": 2
}
