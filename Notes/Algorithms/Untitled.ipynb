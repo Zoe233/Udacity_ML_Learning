{
 "cells": [
  {
   "cell_type": "markdown",
   "metadata": {},
   "source": [
    "# 回归Regression"
   ]
  },
  {
   "cell_type": "markdown",
   "metadata": {},
   "source": [
    "# 1. Udacity内容\n",
    "## Regression:   \n",
    "- Supervised Learning: Take examples of inputs and outputs. Now, given a new input, predict its output. \n",
    "- Mapping continous inputs to outputs. (discrete, continous)\n",
    "\n",
    "## Regression & Function Approximation:\n",
    "例子child Height和函数逼近或回归有什么关系呢？\n",
    "向平均值回落的回归概念与逼近函数、输入到输出的映射有什么关系？\n",
    "\n",
    "例子Child Height是19世纪后期的研究成果，它将所有这些不同的量（父母的身高，人群的平均身高，目标子女的身高）巧妙地联系了起来。   \n",
    "即用这种函数的方式在它们之间创建了关系。  \n",
    "于是人们说“这真不错，我们要使用回归这个概念”（Regression to Mean）。    \n",
    "但他们开始使用后，真正的用意并非向均数回归，而是基于一堆测量点寻找一种数学关系，所以这个词在后来被误用了。  \n",
    "而我们现在依然在使用这个词。   \n",
    "所以，现在**回归并不是指向平均值回落，而是使用函数形式来逼近一堆数据点。**\n",
    "\n",
    "\n",
    "## Regression in Machine Learning:\n",
    "\n",
    "## Finding the best constant function:\n",
    "找到可以逼近所有点的最佳的常数。   \n",
    "**常数函数**：$f(x) = c$    \n",
    "**误差函数**：$E(c) = \\sum_{i=1}^{n}(y_{i} - c)^{2}$ ，LOSS ERROR.    \n",
    "想要求使得LOSS ERROR最小的常数项，对误差函数求导即可。   \n",
    "**求导计算过程**：\n",
    "    $\\frac{dE(c)}{dc} = \\sum_{i=1}^{n} 2*(y_{i} -c)*(-1)$     \n",
    "想要找到最小值，使得上式等于0即可。   \n",
    "    即$\\sum_{i=1}^{n} 2*(y_{i} -c)*(-1) = 0$    \n",
    "    $-\\sum_{i=1}^{n}2*(y_{i}-c) = 0$    \n",
    "    $\\sum_{i=1}^{n}y_{i} - \\sum_{i=1}^{n}c=0$   \n",
    "    $n*c = \\sum_{i=1}^{n}y_{i}$    \n",
    "    $c = \\frac{\\sum_{i=1}^{n}y_{i}}{c}$\n",
    "    \n",
    " 根据计算结果，最佳的常数是所有y的平均值。\n",
    " \n",
    " ## Order of Polynomial多项式的阶：\n",
    " k=0: constant    \n",
    " k=1: line     \n",
    " k=2: parabola    \n",
    "     $f(x) = c_{0} + c_{1}*x + c_{2}*x^{2} + ... + c_{k}*x^{k}$  \n",
    " \n",
    " ![title](../images/regression_1.png)"
   ]
  },
  {
   "cell_type": "code",
   "execution_count": null,
   "metadata": {},
   "outputs": [],
   "source": []
  }
 ],
 "metadata": {
  "kernelspec": {
   "display_name": "Python 3",
   "language": "python",
   "name": "python3"
  },
  "language_info": {
   "codemirror_mode": {
    "name": "ipython",
    "version": 3
   },
   "file_extension": ".py",
   "mimetype": "text/x-python",
   "name": "python",
   "nbconvert_exporter": "python",
   "pygments_lexer": "ipython3",
   "version": "3.6.5"
  }
 },
 "nbformat": 4,
 "nbformat_minor": 2
}
