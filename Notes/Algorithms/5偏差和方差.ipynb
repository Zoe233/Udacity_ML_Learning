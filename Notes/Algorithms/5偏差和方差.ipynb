{
 "cells": [
  {
   "cell_type": "markdown",
   "metadata": {},
   "source": [
    "# Inductive Bias 归纳偏置\n",
    "以**决策树**为例：    \n",
    "较短的树比较长的树优先，那些信息增益高的属性更靠近节点的树优先。   \n",
    "决策树的搜索范围是一个完整的假设空间，但它不彻底搜索这个空间。   \n",
    "从简单的假设到复杂的假设，直到遇到终止条件。   \n",
    "\n",
    "**变性空间候选消除算法**正和决策树相反，假设空间不完整，但搜索整个假设空间。"
   ]
  },
  {
   "cell_type": "markdown",
   "metadata": {},
   "source": [
    "# Preference Bias 优先偏置\n",
    "定义某种假设（最短树）胜过其他假设的一种优选，对最终假设没有硬性假设。"
   ]
  },
  {
   "cell_type": "markdown",
   "metadata": {},
   "source": [
    "# Restriction Bias 限定偏置\n",
    "对待考虑假设的一种限定。   \n",
    "通常优选偏置比限定偏置更符合一般假设，因为允许在学习器工作在完整的假设空间保证了未知目标函数被包含在内。   \n",
    "相反限定偏置严格限定假设集合的潜在空间。 "
   ]
  },
  {
   "cell_type": "markdown",
   "metadata": {},
   "source": [
    "# 奥坎姆剃刀\n",
    "优先选择拟合数据的最简单假设。  \n",
    "是一个应用很广的**归纳偏置**。"
   ]
  },
  {
   "cell_type": "markdown",
   "metadata": {},
   "source": [
    "# 过度拟合\n",
    "对于一个假设，当存在其他假设对训练样例的拟合比它差，但是事实上在实例的整个分布上表现更好，我们就说这个假设为过度拟合。  \n"
   ]
  },
  {
   "cell_type": "markdown",
   "metadata": {},
   "source": []
  }
 ],
 "metadata": {
  "kernelspec": {
   "display_name": "Python 3",
   "language": "python",
   "name": "python3"
  },
  "language_info": {
   "codemirror_mode": {
    "name": "ipython",
    "version": 3
   },
   "file_extension": ".py",
   "mimetype": "text/x-python",
   "name": "python",
   "nbconvert_exporter": "python",
   "pygments_lexer": "ipython3",
   "version": "3.6.5"
  }
 },
 "nbformat": 4,
 "nbformat_minor": 2
}
