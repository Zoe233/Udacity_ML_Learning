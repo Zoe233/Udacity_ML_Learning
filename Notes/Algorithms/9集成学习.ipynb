{
 "cells": [
  {
   "cell_type": "markdown",
   "metadata": {},
   "source": [
    "# 集成学习 ensemble learning"
   ]
  },
  {
   "cell_type": "markdown",
   "metadata": {},
   "source": [
    "集成学习（ensemble learning）可以说是现在非常火爆的机器学习方法了。  \n",
    "它本身不是一个单独的机器学习算法，而是通过构建并结合多个机器学习器来完成学习任务。  \n",
    "也就是我们常说的“博采众长”。  \n",
    "\n",
    "集成学习可以用于\n",
    "- 分类问题集成，\n",
    "- 回归问题集成，\n",
    "- 特征选取集成，\n",
    "- 异常点检测集成等等，   \n",
    "可以说所有的机器学习领域都可以看到集成学习的身影。  \n"
   ]
  },
  {
   "cell_type": "markdown",
   "metadata": {},
   "source": [
    "## 1.集成学习概述\n",
    "从下图，我们可以对集成学习的思想做一个概括。  \n",
    "对于训练数据集，我们通过若干个个体学习器，通过一定的结合策略，就可以最终形成一个强学习器，以达到博采众长的目的。  \n",
    "\n",
    "![title](../images/ensemble_001.png)"
   ]
  },
  {
   "cell_type": "markdown",
   "metadata": {},
   "source": [
    "也就是说，集成学习有两个主要问题需要解决：\n",
    "- 1. 如何得到若干个个体学习器\n",
    "- 2. 如何选择"
   ]
  }
 ],
 "metadata": {
  "kernelspec": {
   "display_name": "Python 3",
   "language": "python",
   "name": "python3"
  },
  "language_info": {
   "codemirror_mode": {
    "name": "ipython",
    "version": 3
   },
   "file_extension": ".py",
   "mimetype": "text/x-python",
   "name": "python",
   "nbconvert_exporter": "python",
   "pygments_lexer": "ipython3",
   "version": "3.6.5"
  }
 },
 "nbformat": 4,
 "nbformat_minor": 2
}
