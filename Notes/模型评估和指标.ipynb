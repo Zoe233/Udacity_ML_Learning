{
 "cells": [
  {
   "cell_type": "markdown",
   "metadata": {},
   "source": [
    "<h1> 评估指标</h1>\n",
    "<h3>选择合适的指标</h3>\n",
    "在构建机器学习模型时，我们首先要选择**性能指标**，然后测试模型的表现如何。   \n",
    "相关的指标有多个，具体取决于我们要尝试解决的问题。   \n",
    "\n",
    "在可以选择性能指标之前，首先务必要认识到，机器学习研究的是如何学习根据数据进行预测。  \n",
    "此外，在测试模型中，也务必将数据集分解为训练数据和测试数据。如果不区分训练数据集和测试数据集，则在评估模型时会遇到问题，因为它已经看到了所有数据。    \n",
    "我们需要的是独立的数据集，以确认模型可以很好地泛化，而不只是泛化到训练样本。"
   ]
  },
  {
   "cell_type": "markdown",
   "metadata": {},
   "source": [
    "<h3>分类指标与回归指标</h3>\n",
    "在分类中，我们想了解模型隔多久正确或不正确地识别新样本一次。  \n",
    "而在回归中，我们可能更关注模型的预测值与真正值之间的差多少。  \n",
    "\n",
    "对于分类，我们会探讨**准确率、精确率、召回率和F分数**。   \n",
    "对于回归，我们会探讨**平均绝对误差和均方误差**。\n"
   ]
  },
  {
   "cell_type": "markdown",
   "metadata": {},
   "source": [
    "<h3>分类指标</h3>\n",
    "对于分类，我们处理的是根据离散数据进行预测的模型。  \n",
    "也就是说，此类模型确定新实例是否属于给定的一组类别。  \n",
    "在这里，我们测量预测是否准确地将所讨论的示例进行分类。\n",
    "\n",
    "<h4>准确率</h4>\n",
    "最基本和最常见的分类指标就是准确率。  \n",
    "在这里，准确率被描述为在特定类的所有项中正确分类或标记的项的数量。   \n",
    "\n",
    "举例而言，如果教室里有 15 个男孩和 16 个女孩，人脸识别软件能否正确识别所有男孩和所有女孩？如果此软件能识别 10 个男孩和 8 个女孩，则它识别男孩和女孩的准确率分别为 66% 和 50%：    \n",
    "\n",
    "准确率 = 正确识别的实例的数量/所有实例数量    \n",
    "accuracy = no. of tiems in a class labeled correctly / all items in that class    \n",
    "   \n",
    "**准确率的缺陷**：      \n",
    "- not ideal for skewed classes    \n",
    "- may want to err on side of guessing innocent    \n",
    "- may want to err on side of guessing guilty   \n",
    "<h4>精确率</h4>\n",
    "\n",
    "<h4>召回率</h4>\n",
    "\n",
    "<h4>F分数</h4>"
   ]
  },
  {
   "cell_type": "markdown",
   "metadata": {},
   "source": [
    "<h2>混淆矩阵 - Confusion Matrix</h2>\n",
    "![title](images/108)"
   ]
  },
  {
   "cell_type": "code",
   "execution_count": null,
   "metadata": {},
   "outputs": [],
   "source": []
  }
 ],
 "metadata": {
  "kernelspec": {
   "display_name": "Python 3",
   "language": "python",
   "name": "python3"
  },
  "language_info": {
   "codemirror_mode": {
    "name": "ipython",
    "version": 3
   },
   "file_extension": ".py",
   "mimetype": "text/x-python",
   "name": "python",
   "nbconvert_exporter": "python",
   "pygments_lexer": "ipython3",
   "version": "3.6.5"
  }
 },
 "nbformat": 4,
 "nbformat_minor": 2
}
