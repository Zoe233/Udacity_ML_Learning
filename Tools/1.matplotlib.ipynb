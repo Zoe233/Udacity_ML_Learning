{
 "cells": [
  {
   "cell_type": "markdown",
   "metadata": {},
   "source": [
    "# matplotlib"
   ]
  },
  {
   "cell_type": "markdown",
   "metadata": {},
   "source": [
    "主要用于记录一些不太熟悉的又比较重要的用法。"
   ]
  },
  {
   "cell_type": "markdown",
   "metadata": {},
   "source": [
    "## 1. 绘制网格图\n",
    "- 用到meshgrid方法\n",
    "- np.reval()\n",
    "- np.c_\n",
    "- plt.contourf(x, y, Z, cmap=plt.cm.Paired)"
   ]
  },
  {
   "cell_type": "code",
   "execution_count": 11,
   "metadata": {},
   "outputs": [],
   "source": [
    "import numpy as np\n",
    "import matplotlib.pyplot as plt\n",
    "xx = np.arange(0, 1, 0.01) # shape (100,)\n",
    "yy = np.arange(1, 2, 0.01)\n",
    "x_axlim, y_axlim = np.meshgrid(xx, yy)"
   ]
  },
  {
   "cell_type": "code",
   "execution_count": 12,
   "metadata": {},
   "outputs": [
    {
     "name": "stdout",
     "output_type": "stream",
     "text": [
      "(100, 100)\n",
      "(100, 100)\n"
     ]
    }
   ],
   "source": [
    "print(x_axlim.shape)\n",
    "print(y_axlim.shape)"
   ]
  },
  {
   "cell_type": "code",
   "execution_count": 13,
   "metadata": {},
   "outputs": [
    {
     "data": {
      "text/plain": [
       "array([[0.  , 0.01, 0.02, ..., 0.97, 0.98, 0.99],\n",
       "       [0.  , 0.01, 0.02, ..., 0.97, 0.98, 0.99],\n",
       "       [0.  , 0.01, 0.02, ..., 0.97, 0.98, 0.99],\n",
       "       ...,\n",
       "       [0.  , 0.01, 0.02, ..., 0.97, 0.98, 0.99],\n",
       "       [0.  , 0.01, 0.02, ..., 0.97, 0.98, 0.99],\n",
       "       [0.  , 0.01, 0.02, ..., 0.97, 0.98, 0.99]])"
      ]
     },
     "execution_count": 13,
     "metadata": {},
     "output_type": "execute_result"
    }
   ],
   "source": [
    "x_axlim"
   ]
  },
  {
   "cell_type": "code",
   "execution_count": 14,
   "metadata": {},
   "outputs": [
    {
     "data": {
      "text/plain": [
       "array([[1.  , 1.  , 1.  , ..., 1.  , 1.  , 1.  ],\n",
       "       [1.01, 1.01, 1.01, ..., 1.01, 1.01, 1.01],\n",
       "       [1.02, 1.02, 1.02, ..., 1.02, 1.02, 1.02],\n",
       "       ...,\n",
       "       [1.97, 1.97, 1.97, ..., 1.97, 1.97, 1.97],\n",
       "       [1.98, 1.98, 1.98, ..., 1.98, 1.98, 1.98],\n",
       "       [1.99, 1.99, 1.99, ..., 1.99, 1.99, 1.99]])"
      ]
     },
     "execution_count": 14,
     "metadata": {},
     "output_type": "execute_result"
    }
   ],
   "source": [
    "y_axlim"
   ]
  },
  {
   "cell_type": "code",
   "execution_count": 16,
   "metadata": {},
   "outputs": [
    {
     "data": {
      "text/plain": [
       "array([0.  , 0.01, 0.02, ..., 0.97, 0.98, 0.99])"
      ]
     },
     "execution_count": 16,
     "metadata": {},
     "output_type": "execute_result"
    }
   ],
   "source": [
    "x_axlim.ravel()"
   ]
  },
  {
   "cell_type": "code",
   "execution_count": 17,
   "metadata": {},
   "outputs": [
    {
     "name": "stdout",
     "output_type": "stream",
     "text": [
      "(10000,)\n"
     ]
    }
   ],
   "source": [
    "print(x_axlim.ravel().shape)"
   ]
  },
  {
   "cell_type": "code",
   "execution_count": 21,
   "metadata": {},
   "outputs": [
    {
     "name": "stdout",
     "output_type": "stream",
     "text": [
      "(10000, 2)\n"
     ]
    },
    {
     "data": {
      "text/plain": [
       "array([[0.  , 1.  ],\n",
       "       [0.01, 1.  ],\n",
       "       [0.02, 1.  ],\n",
       "       ...,\n",
       "       [0.97, 1.99],\n",
       "       [0.98, 1.99],\n",
       "       [0.99, 1.99]])"
      ]
     },
     "execution_count": 21,
     "metadata": {},
     "output_type": "execute_result"
    }
   ],
   "source": [
    "new_array = np.c_[x_axlim.ravel(), y_axlim.ravel()]\n",
    "print(new_array.shape)\n",
    "new_array"
   ]
  },
  {
   "cell_type": "code",
   "execution_count": 25,
   "metadata": {},
   "outputs": [
    {
     "data": {
      "text/plain": [
       "-0.7659419898337465"
      ]
     },
     "execution_count": 25,
     "metadata": {},
     "output_type": "execute_result"
    }
   ],
   "source": [
    "np.random.randn()"
   ]
  },
  {
   "cell_type": "code",
   "execution_count": 28,
   "metadata": {},
   "outputs": [
    {
     "data": {
      "text/plain": [
       "<matplotlib.contour.QuadContourSet at 0x10e906588>"
      ]
     },
     "execution_count": 28,
     "metadata": {},
     "output_type": "execute_result"
    },
    {
     "data": {
      "image/png": "[encoded data removed]",
      "text/plain": [
       "<Figure size 432x288 with 1 Axes>"
      ]
     },
     "metadata": {},
     "output_type": "display_data"
    }
   ],
   "source": [
    "Z = []\n",
    "for row in new_array:\n",
    "    Z.append(int(np.random.randn()))\n",
    "        \n",
    "plt.contourf(x_axlim, y_axlim, np.array(Z).reshape(x_axlim.shape),cmap=plt.cm.Paired)"
   ]
  },
  {
   "cell_type": "code",
   "execution_count": null,
   "metadata": {},
   "outputs": [],
   "source": []
  }
 ],
 "metadata": {
  "kernelspec": {
   "display_name": "Python 3",
   "language": "python",
   "name": "python3"
  },
  "language_info": {
   "codemirror_mode": {
    "name": "ipython",
    "version": 3
   },
   "file_extension": ".py",
   "mimetype": "text/x-python",
   "name": "python",
   "nbconvert_exporter": "python",
   "pygments_lexer": "ipython3",
   "version": "3.6.5"
  }
 },
 "nbformat": 4,
 "nbformat_minor": 2
}
