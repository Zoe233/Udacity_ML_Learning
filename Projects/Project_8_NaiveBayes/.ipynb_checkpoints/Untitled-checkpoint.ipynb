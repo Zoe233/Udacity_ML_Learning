{
 "cells": [
  {
   "cell_type": "markdown",
   "metadata": {},
   "source": [
    "# 地形数据的GaussianNB训练、预测、可视化汇总"
   ]
  },
  {
   "cell_type": "markdown",
   "metadata": {},
   "source": [
    "## Part1: 地形数据生成"
   ]
  },
  {
   "cell_type": "code",
   "execution_count": 1,
   "metadata": {},
   "outputs": [],
   "source": [
    "import random "
   ]
  },
  {
   "cell_type": "code",
   "execution_count": 6,
   "metadata": {},
   "outputs": [],
   "source": [
    "def makeTerrianData(n_points=1000):\n",
    "    ''' make the toy dataset '''\n",
    "    random.seed(42)\n",
    "    grade = [random.random() for ii in range(0, n_points)]\n",
    "    bumpy = [random.random() for ii in range(0, n_points)]\n",
    "    error = [random.random() for ii in range(0, n_points)]\n",
    "    y = [round(grade[ii] * bumpy[ii] + 0.3 + 0.1 * error[ii]) for ii in range(0, n_points)]\n",
    "    for ii in range(0, len(y)):\n",
    "        if grade[ii] > 0.8 or bumpy[ii] > 0.8:\n",
    "            y[ii] = 1.0 \n",
    "            \n",
    "    # split into train/test sets\n",
    "    X = [[gg, ss] for gg, ss in zip(grade, bumpy)]\n",
    "    split = int(0.75*n_points)\n",
    "    X_train = X[0: split]\n",
    "    X_test = X[split: ]\n",
    "    y_train = y[0: split]\n",
    "    y_test = y[split: ]\n",
    "    \n",
    "    grade_sig = [X_train[ii][0] for ii in range(0, len(X_train)) if y_train[ii] == 0]\n",
    "    bumpy_sig =[X_train[ii][1] for ii in range(0, len(X_train)) if y_train[ii] == 0]\n",
    "    grade_bkg = [X_train[ii][0] for ii in range(0, len(X_train)) if y_train[ii] == 1]\n",
    "    bumpy_bkg = [X_train[ii][1] for ii in range(0, len(X_train)) if y_train[ii] == 1]\n",
    "    \n",
    "    training_data = {'fast':{'grade': grade_sig, 'bumpiness': bumpy_sig},\n",
    "                           'slow':{'grade':grade_bkg, 'bumpiness': bumpy_bkg}}\n",
    "    \n",
    "    grade_sig = [X_test[ii][0] for ii in range(0, len(X_test)) if y_test[ii] == 0]\n",
    "    bumpy_sig = [X_test[ii][1] for ii in range(0, len(X_test)) if y_test[ii] ==0]\n",
    "    grade_bkg = [X_test[ii][0] for ii in range(0, len(X_test)) if y_test[ii] ==1]\n",
    "    bumpy_bkg = [X_test[ii][1] for ii in range(0, len(X_test)) if y_test[ii] ==1]\n",
    "    \n",
    "    test_data = {'fast': {'grade': grade_sig, 'bumpiness': bumpy_sig},\n",
    "                'slow':{'grade':grade_bkg, 'bumpiness': bumpy_bkg}}\n",
    "    \n",
    "    # return training_data, test_data\n",
    "    return X_train, y_train, X_test, y_test"
   ]
  },
  {
   "cell_type": "code",
   "execution_count": 5,
   "metadata": {},
   "outputs": [
    {
     "data": {
      "text/html": [
       "<div>\n",
       "<style scoped>\n",
       "    .dataframe tbody tr th:only-of-type {\n",
       "        vertical-align: middle;\n",
       "    }\n",
       "\n",
       "    .dataframe tbody tr th {\n",
       "        vertical-align: top;\n",
       "    }\n",
       "\n",
       "    .dataframe thead th {\n",
       "        text-align: right;\n",
       "    }\n",
       "</style>\n",
       "<table border=\"1\" class=\"dataframe\">\n",
       "  <thead>\n",
       "    <tr style=\"text-align: right;\">\n",
       "      <th></th>\n",
       "      <th>fast</th>\n",
       "      <th>slow</th>\n",
       "    </tr>\n",
       "  </thead>\n",
       "  <tbody>\n",
       "    <tr>\n",
       "      <th>bumpiness</th>\n",
       "      <td>[0.09935462460613032, 0.6856802654812854, 0.54...</td>\n",
       "      <td>[0.9778425294520467, 0.35867384121231793, 0.39...</td>\n",
       "    </tr>\n",
       "    <tr>\n",
       "      <th>grade</th>\n",
       "      <td>[0.6394267984578837, 0.025010755222666936, 0.2...</td>\n",
       "      <td>[0.22321073814882275, 0.7364712141640124, 0.67...</td>\n",
       "    </tr>\n",
       "  </tbody>\n",
       "</table>\n",
       "</div>"
      ],
      "text/plain": [
       "                                                        fast  \\\n",
       "bumpiness  [0.09935462460613032, 0.6856802654812854, 0.54...   \n",
       "grade      [0.6394267984578837, 0.025010755222666936, 0.2...   \n",
       "\n",
       "                                                        slow  \n",
       "bumpiness  [0.9778425294520467, 0.35867384121231793, 0.39...  \n",
       "grade      [0.22321073814882275, 0.7364712141640124, 0.67...  "
      ]
     },
     "execution_count": 5,
     "metadata": {},
     "output_type": "execute_result"
    }
   ],
   "source": [
    "training_data, test_data = makeTerrianData()\n",
    "import pandas as pd \n",
    "dataFrame = pd.DataFrame(training_data)\n",
    "dataFrame.head()"
   ]
  },
  {
   "cell_type": "code",
   "execution_count": 7,
   "metadata": {},
   "outputs": [
    {
     "name": "stdout",
     "output_type": "stream",
     "text": [
      "[0, 0, 0, 1.0, 1]\n",
      "[[0.6394267984578837, 0.09935462460613032], [0.025010755222666936, 0.6856802654812854], [0.27502931836911926, 0.5444658614821449], [0.22321073814882275, 0.9778425294520467], [0.7364712141640124, 0.35867384121231793]]\n"
     ]
    }
   ],
   "source": [
    "X_train, y_train, X_test, y_test = makeTerrianData()\n",
    "print(y_train[:5])\n",
    "print(X_train[:5])"
   ]
  },
  {
   "cell_type": "markdown",
   "metadata": {},
   "source": [
    "----"
   ]
  },
  {
   "cell_type": "markdown",
   "metadata": {},
   "source": [
    "## Part 2: 可视化类\n"
   ]
  },
  {
   "cell_type": "code",
   "execution_count": 8,
   "metadata": {},
   "outputs": [],
   "source": [
    "import warnings\n",
    "warnings.filterwarnings(\"ignore\")\n",
    "\n",
    "import matplotlib.pyplot as plt\n",
    "import pylab as pl  \n",
    "# matplotlib还提供了一个名为pylab的模块，\n",
    "# 其中包括了许多NumPy和pyplot模块中常用的函数，\n",
    "# 方便用户快速进行计算和绘图，十分适合在IPython交互式环境中使用。\n",
    "\n",
    "import numpy as np"
   ]
  },
  {
   "cell_type": "code",
   "execution_count": 36,
   "metadata": {},
   "outputs": [],
   "source": [
    "def prettyPicture(clf, X_test, y_test):\n",
    "    x_min = 0.0; x_max = 1.0\n",
    "    y_min = 0.0; y_max = 1.0\n",
    "\n",
    "    # Plot the decision boundary. For that, we will assign a color to each\n",
    "    # point in the mesh [x_min, m_max]x[y_min, y_max].\n",
    "    h = .01  # step size in the mesh\n",
    "    xx, yy = np.meshgrid(np.arange(x_min, x_max, h), np.arange(y_min, y_max, h))\n",
    "    Z = clf.predict(np.c_[xx.ravel(), yy.ravel()])\n",
    "\n",
    "    # Put the result into a color plot\n",
    "    Z = Z.reshape(xx.shape)\n",
    "    plt.xlim(xx.min(), xx.max())\n",
    "    plt.ylim(yy.min(), yy.max())\n",
    "\n",
    "    plt.pcolormesh(xx, yy, Z, cmap=pl.cm.seismic)\n",
    "\n",
    "    # Plot also the test points\n",
    "    grade_sig = [X_test[ii][0] for ii in range(0, len(X_test)) if y_test[ii]==0]\n",
    "    bumpy_sig = [X_test[ii][1] for ii in range(0, len(X_test)) if y_test[ii]==0]\n",
    "    grade_bkg = [X_test[ii][0] for ii in range(0, len(X_test)) if y_test[ii]==1]\n",
    "    bumpy_bkg = [X_test[ii][1] for ii in range(0, len(X_test)) if y_test[ii]==1]\n",
    "    \n",
    "    plt.scatter(grade_sig, bumpy_sig, color='b', label='fast')\n",
    "    plt.scatter(grade_bkg, bumpy_bkg, color='r', label='slow')\n",
    "    plt.legend()\n",
    "    plt.xlabel('bumpiness')\n",
    "    plt.ylabel('grade')\n",
    "    plt.savefig('test.png')"
   ]
  },
  {
   "cell_type": "markdown",
   "metadata": {},
   "source": [
    "## Part 3: 定义GaussianNB分类器"
   ]
  },
  {
   "cell_type": "code",
   "execution_count": 10,
   "metadata": {},
   "outputs": [],
   "source": [
    "def classify(features_train, labels_train):\n",
    "    from sklearn.naive_bayes import GaussianNB\n",
    "    \n",
    "    clf = GaussianNB()\n",
    "    \n",
    "    clf.fit(features_train, labels_train)\n",
    "    \n",
    "    return clf"
   ]
  },
  {
   "cell_type": "markdown",
   "metadata": {},
   "source": [
    "## Part 4: 整合"
   ]
  },
  {
   "cell_type": "code",
   "execution_count": 11,
   "metadata": {},
   "outputs": [],
   "source": [
    "features_train, labels_train, features_test, labels_test = makeTerrianData()"
   ]
  },
  {
   "cell_type": "markdown",
   "metadata": {},
   "source": [
    "the training data (features_train, labels_train) have both 'fast' and 'slow' points mixed in together -- separate them so we can give them different colors in the scatterplot, and visually identify them."
   ]
  },
  {
   "cell_type": "code",
   "execution_count": 12,
   "metadata": {},
   "outputs": [],
   "source": [
    "grade_fast = [features_train[ii][0] for ii in range(0, len(features_train)) if labels_train[ii] == 0]\n",
    "bumpy_fast = [features_train[ii][1] for ii in range(0, len(features_train)) if labels_train[ii] == 1]\n",
    "grade_slow = [features_train[ii][0] for ii in range(0, len(features_train)) if labels_train[ii]==1]\n",
    "bumpy_slow = [features_train[ii][1] for ii in range(0, len(features_train)) if labels_train[ii]==1]"
   ]
  },
  {
   "cell_type": "code",
   "execution_count": 13,
   "metadata": {},
   "outputs": [],
   "source": [
    "clf = classify(features_train, labels_train)"
   ]
  },
  {
   "cell_type": "markdown",
   "metadata": {},
   "source": [
    "Draw the decision boundary with the text points overlaid"
   ]
  },
  {
   "cell_type": "code",
   "execution_count": 37,
   "metadata": {
    "scrolled": true
   },
   "outputs": [
    {
     "data": {
      "image/png": "[encoded data removed]",
      "text/plain": [
       "<Figure size 432x288 with 1 Axes>"
      ]
     },
     "metadata": {},
     "output_type": "display_data"
    }
   ],
   "source": [
    "prettyPicture(clf, features_test, labels_test)"
   ]
  },
  {
   "cell_type": "code",
   "execution_count": null,
   "metadata": {},
   "outputs": [],
   "source": []
  },
  {
   "cell_type": "markdown",
   "metadata": {},
   "source": [
    "---"
   ]
  },
  {
   "cell_type": "markdown",
   "metadata": {},
   "source": [
    "# 注意代码知识点"
   ]
  },
  {
   "cell_type": "markdown",
   "metadata": {},
   "source": [
    "- np.meshgrid()\n",
    "- np.c_()\n",
    "- np.ravel()\n",
    "- plt.pcolormesh()"
   ]
  },
  {
   "cell_type": "markdown",
   "metadata": {},
   "source": [
    "np.meshgrid()\n",
    "通常用于在数据的矢量化上使用。 \n",
    "适用于生成网格型数据，可以接受两个一维数组生成两个二维矩阵，对应两个数组中所有的(x, y)对。\n",
    "下面是np.meshgrid()的操作示例。"
   ]
  },
  {
   "cell_type": "code",
   "execution_count": 38,
   "metadata": {},
   "outputs": [
    {
     "name": "stdout",
     "output_type": "stream",
     "text": [
      "[0.  0.5 1. ]\n",
      "[0. 1.]\n"
     ]
    }
   ],
   "source": [
    "nx, ny = (3, 2)\n",
    "x = np.linspace(0, 1, nx)\n",
    "y = np.linspace(0, 1, ny)\n",
    "print(x)\n",
    "print(y)"
   ]
  },
  {
   "cell_type": "code",
   "execution_count": 39,
   "metadata": {},
   "outputs": [],
   "source": [
    "xv, yv = np.meshgrid(x ,y )"
   ]
  },
  {
   "cell_type": "code",
   "execution_count": 40,
   "metadata": {},
   "outputs": [
    {
     "data": {
      "text/plain": [
       "array([[0. , 0.5, 1. ],\n",
       "       [0. , 0.5, 1. ]])"
      ]
     },
     "execution_count": 40,
     "metadata": {},
     "output_type": "execute_result"
    }
   ],
   "source": [
    "xv"
   ]
  },
  {
   "cell_type": "code",
   "execution_count": 41,
   "metadata": {},
   "outputs": [
    {
     "data": {
      "text/plain": [
       "array([[0., 0., 0.],\n",
       "       [1., 1., 1.]])"
      ]
     },
     "execution_count": 41,
     "metadata": {},
     "output_type": "execute_result"
    }
   ],
   "source": [
    "yv"
   ]
  },
  {
   "cell_type": "code",
   "execution_count": 42,
   "metadata": {},
   "outputs": [
    {
     "data": {
      "text/plain": [
       "array([[0. , 0.5, 1. ]])"
      ]
     },
     "execution_count": 42,
     "metadata": {},
     "output_type": "execute_result"
    }
   ],
   "source": [
    "xv, yv = np.meshgrid(x, y , sparse = True)\n",
    "xv"
   ]
  },
  {
   "cell_type": "code",
   "execution_count": 43,
   "metadata": {},
   "outputs": [
    {
     "data": {
      "text/plain": [
       "array([[0.],\n",
       "       [1.]])"
      ]
     },
     "execution_count": 43,
     "metadata": {},
     "output_type": "execute_result"
    }
   ],
   "source": [
    "yv"
   ]
  },
  {
   "cell_type": "markdown",
   "metadata": {},
   "source": [
    "numpy的ravel() 和 flatten()函数\n",
    "首先声明两者所要实现的功能是一致的（将多维数组降位一维）。\n",
    "\n",
    "这点从两个单词的意也可以看出来，ravel(散开，解开)，flatten（变平）。  \n",
    "两者的区别在于返回拷贝（copy）还是返回视图（view），numpy.flatten()返回一份拷贝，对拷贝所做的修改不会影响（reflects）原始矩阵，而numpy.ravel()返回的是视图（view，也颇有几分C/C++引用reference的意味），会影响（reflects）原始矩阵。"
   ]
  },
  {
   "cell_type": "markdown",
   "metadata": {},
   "source": [
    "np.r_是按列连接两个矩阵，就是把两矩阵上下相加，要求列数相等，类似于pandas中的concat()。\n",
    "\n",
    "np.c_是按行连接两个矩阵，就是把两矩阵左右相加，要求行数相等，类似于pandas中的merge()。"
   ]
  },
  {
   "cell_type": "code",
   "execution_count": null,
   "metadata": {},
   "outputs": [],
   "source": []
  },
  {
   "cell_type": "code",
   "execution_count": null,
   "metadata": {},
   "outputs": [],
   "source": []
  }
 ],
 "metadata": {
  "kernelspec": {
   "display_name": "Python 3",
   "language": "python",
   "name": "python3"
  },
  "language_info": {
   "codemirror_mode": {
    "name": "ipython",
    "version": 3
   },
   "file_extension": ".py",
   "mimetype": "text/x-python",
   "name": "python",
   "nbconvert_exporter": "python",
   "pygments_lexer": "ipython3",
   "version": "3.6.5"
  }
 },
 "nbformat": 4,
 "nbformat_minor": 2
}
