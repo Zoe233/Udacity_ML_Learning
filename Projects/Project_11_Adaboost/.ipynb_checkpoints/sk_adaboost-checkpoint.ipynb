{
 "cells": [
  {
   "cell_type": "markdown",
   "metadata": {},
   "source": [
    "# AdaBoost Scikit-learn使用小结"
   ]
  },
  {
   "cell_type": "markdown",
   "metadata": {},
   "source": [
    "## 1. AdaBoost类库概述\n",
    "### AdaBoostClassifier \n",
    "- 分类\n",
    "- 使用了两种AdaBoost分类算法的实现：SAMME和SAMME.R\n",
    "\n",
    "### AdaBoostRegressor\n",
    "- 回归\n",
    "- 使用了Adaboost回归算法的实现，即AdaBoost.R2。\n",
    "\n",
    "### <a href='http://www.cnblogs.com/pinard/p/6136914.html'>调参</a>\n",
    "当我们对AdaBoost调参时，主要对两部分内容进行调参\n",
    "- 第一部分是对我们的Adaboost的框架进行调参\n",
    "    - AdaBoostClassifier\n",
    "        - base_estimator = None  常用的是CART决策树或神经网路MLP，默认DecisionTreeClassifier（CART分类树）\n",
    "        - n_estimators = 50 弱学习器的最大迭代次数\n",
    "        - learning_rate = 1  \n",
    "        - algorithm='SAMME.R'  # 默认算法为'SAMME.R'，则base_estimator需要支持概率预测，即对应的sklearn算法要有predict_proba方法。\n",
    "        - random_state = None\n",
    "    \n",
    "    - AdaBoostRegressor\n",
    "        - base_estimater = None 默认CART回归树\n",
    "        - n_estimators = 50\n",
    "        - learning_rate = 1\n",
    "        - loss = 'linear'  # 'linear', 'square', 'exponential' \n",
    "        - random_state = None\n",
    "    \n",
    "- 第二部分是对我们选择的弱分类器进行调参  \n",
    "\n",
    "两者相辅相成。\n"
   ]
  },
  {
   "cell_type": "markdown",
   "metadata": {},
   "source": []
  }
 ],
 "metadata": {
  "kernelspec": {
   "display_name": "Python 3",
   "language": "python",
   "name": "python3"
  },
  "language_info": {
   "codemirror_mode": {
    "name": "ipython",
    "version": 3
   },
   "file_extension": ".py",
   "mimetype": "text/x-python",
   "name": "python",
   "nbconvert_exporter": "python",
   "pygments_lexer": "ipython3",
   "version": "3.6.5"
  }
 },
 "nbformat": 4,
 "nbformat_minor": 2
}
