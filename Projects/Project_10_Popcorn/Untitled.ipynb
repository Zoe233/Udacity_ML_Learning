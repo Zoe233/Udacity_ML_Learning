{
 "cells": [
  {
   "cell_type": "markdown",
   "metadata": {},
   "source": [
    "# Bag of Words Meets Bags of Popcorn\n",
    "####  Use Google's Word2Vec for movie reviews"
   ]
  },
  {
   "cell_type": "markdown",
   "metadata": {},
   "source": [
    "# Part 1: 项目描述\n",
    "在本教程比赛中，我们对情感分析进行了更深入的研究。Google的Word2Vec  是一种深度学习的启发式方法，专注于单词的含义。Word2Vec试图理解单词  之间的含义和语义关系。它的工作方式与深度方法类似，如递归神经网络或深度神经网络，但计算效率更高。**本教程重点介绍Word2Vec进行情感分析。**\n",
    "\n",
    "情感分析是机器学习中一个具有挑战性的课题。人们用语言表达自己的情绪，语言往往被讽刺，模棱两可和言语所掩盖，所有这些对人类和计算机来说都是非常具有误导性的。还有另一个Kaggle  电影评论情感分析竞赛。在本教程中，我们将探讨Word2Vec如何应用于类似的问题。\n",
    "\n",
    "在过去的几年里，深度学习一直是新闻报道，甚至成为纽约时报的头版。这些机器学习技术受到人类大脑结构的启发，并且最近在计算能力方面的进步使其成为可能，这些技术通过在图像识别，语音处理和自然语言任务方面的突破性成果引起了轰动。最近，深度学习方法赢得了几项Kaggle比赛，包括药物发现  任务  和猫狗图像识别。\n",
    "\n",
    "## 教程概述\n",
    "本教程将帮助您开始使用Word2Vec进行自然语言处理。它有两个目标： \n",
    "\n",
    "- 基本自然语言处理：  本教程的第1部分面向初学者，涵盖了本教程后面部分所需的基本自然语言处理技术。\n",
    "\n",
    "- 深入学习文本理解：在  第2部分和第3部分中，我们将深入探讨如何使用Word2Vec来训练模型，以及如何使用生成的单词向量进行情感分析。\n",
    "\n",
    "由于深度学习是一个快速发展的领域，大量的工作尚未发表，或仅作为学术论文存在。本教程的第3部分比规范性更具探索性 - 我们尝试了使用Word2Vec的几种方法，而不是为您提供使用输出的配方。\n",
    "\n",
    "为了实现这些目标，我们依靠IMDB情绪分析数据集，该数据集有10万多段电影评论，既有积极的一面，也有消极的一面。\n",
    "\n",
    "## 评估：\n",
    "根据ROC曲线对提交内容进行判断。 \n",
    "\n",
    "提交说明\n",
    "您应该提交一个以25,000行加上标题行的逗号分隔文件。   \n",
    "应该有2列：“ID”和“情绪”，其中包含您的二元预测：1为正面评论，0为负面评论。有关示例，请参阅数据页面上的“sampleSubmission.csv”。 \n",
    "> ID，情绪   \n",
    "123_45,0    \n",
    "678_90,1   \n",
    "12_34,0   \n",
    "...   "
   ]
  },
  {
   "cell_type": "markdown",
   "metadata": {},
   "source": [
    "# Part 2: NLP介绍\n",
    "## 1. 什么是NLP?\n",
    "NLP（自然语言处理）是一组解决文本问题的技术。  \n",
    "此页面将帮助您开始加载和清理IMDB电影评论，然后应用简单的单词袋模型来获得令人惊讶的准确预测，即评论是否赞成或赞成。  "
   ]
  },
  {
   "cell_type": "code",
   "execution_count": 15,
   "metadata": {},
   "outputs": [],
   "source": [
    "# KaggleWord2VecUtility.py\n",
    "import re\n",
    "import nltk\n",
    "import pandas as pd\n",
    "from bs4 import BeautifulSoup\n",
    "from nltk.corpus import stopwords\n",
    "\n",
    "class KaggleWord2VecUtility(object):\n",
    "    '''\n",
    "    KaggleWord2VecUtility is a utility class for processing raw HTML text \n",
    "    into segments for further learning.\n",
    "    '''\n",
    "    \n",
    "    @staticmethod\n",
    "    def review_to_wordlist(review, remove_stopwords=False):\n",
    "        '''\n",
    "        Function to convert a document to a sequence of words, optionally\n",
    "        removing stop words. \n",
    "        Returns a list of words.\n",
    "        '''\n",
    "        # 1. Remove HTML\n",
    "        review_text = BeautifulSoup(review).get_text()\n",
    "        \n",
    "        # 2. Remove non-letters\n",
    "        review_text = re.sub('[^a-zA-Z]', ' ', review_text)\n",
    "        \n",
    "        # 3. Convert words to lower case and split them\n",
    "        words = review_text.lower().split()\n",
    "        \n",
    "        # 4. Optionally remove stop words (false by default)\n",
    "        if remove_stopwords:\n",
    "            stops = set(stopwords.words('english'))\n",
    "            words = [w for w in words if not w in stops]\n",
    "         \n",
    "        # 5. Return a  list of words\n",
    "        return words\n",
    "    \n"
   ]
  },
  {
   "cell_type": "code",
   "execution_count": 18,
   "metadata": {},
   "outputs": [
    {
     "name": "stdout",
     "output_type": "stream",
     "text": [
      "['zoe', 'var', 'currentblogapp', 'zoe', 'cb', 'enable', 'mathjax', 'false', 'var', 'islogined', 'false', 'zoe', 'posts', 'comments', 'trackbacks', 'a', 'row', 'col', 'for', 'row', 'in', 'a', 'for', 'col', 'in', 'range', 'len', 'a', 'list', 'map', 'list', 'zip', 'a', 'a', 'len', 'a', 'a', 'row', 'col', 'i', 'j', 'j', 'i', 'zip', 'map', 'zip', 'map', 'python', 'python', 'zip', 'zip', 'tuple', 'zip', 'zip', 'a', 'a', 'a', 'a', 'a', 'b', 'c', 'd', 'zip', 'zip', 'a', 'a', 'a', 'print', 'zip', 'zip', 'object', 'at', 'x', 'f', 'a', 'c', 'for', 'i', 'in', 'zip', 'print', 'i', 'zip', 'zip', 'a', 'a', 'a', 'print', 'zip', 'zip', 'object', 'at', 'x', 'f', 'a', 'd', 'for', 'j', 'in', 'zip', 'print', 'j', 'a', 'b', 'c', 'zip', 'zip', 'a', 'print', 'zip', 'zip', 'object', 'at', 'x', 'f', 'a', 'd', 'for', 'i', 'in', 'zip', 'print', 'i', 'a', 'b', 'c', 'd', 'zip', 'zip', 'a', 'print', 'zip', 'zip', 'object', 'at', 'x', 'f', 'a', 'f', 'for', 'j', 'in', 'zip', 'print', 'j', 'a', 'b', 'c', 'd', 'a', 'b', 'c', 'd', 'a', 'b', 'c', 'd', 'l', 'print', 'j', 'i', 'for', 'j', 'in', 'l', 'for', 'i', 'in', 'range', 'len', 'l', 'zip', 'l', 'zip', 'object', 'at', 'x', 'f', 'a', 'f', 'for', 'i', 'in', 'zip', 'l', 'print', 'i', 'map', 'map', 'function', 'iterable', 'map', 'float', 'def', 'lambda', 'python', 'ls', 'rs', 'map', 'str', 'ls', 'lt', 'def', 'add', 'num', 'return', 'num', 'rs', 'map', 'add', 'lt', 'print', 'rs', 'python', 'ls', 'rs', 'map', 'str', 'ls', 'print', 'rs', 'map', 'object', 'at', 'x', 'd', 'python', 'ls', 'rs', 'map', 'str', 'ls', 'print', 'list', 'rs', 'posted', 'on', 'zoe', 'var', 'allowcomments', 'true', 'cb', 'blogid', 'cb', 'entryid', 'cb', 'blogapp', 'currentblogapp', 'cb', 'bloguserguid', 'd', 'f', 'e', 'fc', 'ac', 'd', 'f', 'cc', 'cb', 'entrycreateddate', 'loadviewcount', 'cb', 'entryid', 'var', 'cb', 'posttype', 'var', 'commentmanager', 'new', 'blogcommentmanager', 'commentmanager', 'rendercomments', 'fixpostbody', 'settimeout', 'function', 'incrementviewcount', 'cb', 'entryid', 'deliveradt', 'deliveradc', 'deliveradc', 'loadnewsandkb', 'loadblogsignature', 'loadpostinfoblock', 'cb', 'blogid', 'cb', 'entryid', 'cb', 'blogapp', 'cb', 'bloguserguid', 'getprevnextpost', 'cb', 'entryid', 'cb', 'blogid', 'cb', 'entrycreateddate', 'cb', 'posttype', 'loadoptunderpost', 'gethistorytoday', 'cb', 'blogid', 'cb', 'blogapp', 'cb', 'entrycreateddate', 'loadblognews', 'loadblogdefaultcalendar', 'loadblogsidecolumn', 'copyright', 'zoe', 'powered', 'by']\n"
     ]
    },
    {
     "name": "stderr",
     "output_type": "stream",
     "text": [
      "/Users/zoe/anaconda3/lib/python3.6/site-packages/bs4/__init__.py:181: UserWarning: No parser was explicitly specified, so I'm using the best available HTML parser for this system (\"lxml\"). This usually isn't a problem, but if you run this code on another system, or in a different virtual environment, it may use a different parser and behave differently.\n",
      "\n",
      "The code that caused this warning is on line 193 of the file /Users/zoe/anaconda3/lib/python3.6/runpy.py. To get rid of this warning, change code that looks like this:\n",
      "\n",
      " BeautifulSoup(YOUR_MARKUP})\n",
      "\n",
      "to this:\n",
      "\n",
      " BeautifulSoup(YOUR_MARKUP, \"lxml\")\n",
      "\n",
      "  markup_type=markup_type))\n"
     ]
    }
   ],
   "source": [
    "# 测试类是否可用，其中对HTML的处理不具备普遍性，需要针对不同wang\n",
    "import requests\n",
    "blog = requests.get('https://www.cnblogs.com/zoe233/p/8628566.html')\n",
    "a = KaggleWord2VecUtility.review_to_wordlist(blog.text)\n",
    "print(a)"
   ]
  },
  {
   "cell_type": "code",
   "execution_count": 7,
   "metadata": {},
   "outputs": [],
   "source": [
    "import os\n",
    "from sklearn.feature_extraction.text import CountVectorizer\n",
    "from sklearn.ensemble import RandomForestClassifier\n",
    "import pandas as pd\n",
    "import numpy as np"
   ]
  },
  {
   "cell_type": "code",
   "execution_count": null,
   "metadata": {},
   "outputs": [],
   "source": []
  }
 ],
 "metadata": {
  "kernelspec": {
   "display_name": "Python 3",
   "language": "python",
   "name": "python3"
  },
  "language_info": {
   "codemirror_mode": {
    "name": "ipython",
    "version": 3
   },
   "file_extension": ".py",
   "mimetype": "text/x-python",
   "name": "python",
   "nbconvert_exporter": "python",
   "pygments_lexer": "ipython3",
   "version": "3.6.5"
  }
 },
 "nbformat": 4,
 "nbformat_minor": 2
}
