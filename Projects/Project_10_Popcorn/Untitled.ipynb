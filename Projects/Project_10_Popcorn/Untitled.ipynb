{
 "cells": [
  {
   "cell_type": "code",
   "execution_count": 25,
   "metadata": {},
   "outputs": [],
   "source": [
    "# KaggleWord2VecUtility.py\n",
    "import re\n",
    "import nltk\n",
    "import pandas as pd\n",
    "from bs4 import BeautifulSoup\n",
    "from nltk.corpus import stopwords\n",
    "\n",
    "class KaggleWord2VecUtility(object):\n",
    "    '''\n",
    "    KaggleWord2VecUtility is a utility class for processing raw HTML text \n",
    "    into segments for further learning.\n",
    "    '''\n",
    "    \n",
    "    @staticmethod\n",
    "    def review_to_wordlist(review, remove_stopwords=False):\n",
    "        '''\n",
    "        Function to convert a document to a sequence of words, optionally\n",
    "        removing stop words. \n",
    "        Returns a list of words.\n",
    "        '''\n",
    "        # 1. Remove HTML\n",
    "        review_text = BeautifulSoup(review, 'lxml').get_text()\n",
    "        \n",
    "        # 2. Remove non-letters\n",
    "        review_text = re.sub('[^a-zA-Z]', ' ', review_text)\n",
    "        \n",
    "        # 3. Convert words to lower case and split them\n",
    "        words = review_text.lower().split()\n",
    "        \n",
    "        # 4. Optionally remove stop words (false by default)\n",
    "        if remove_stopwords:\n",
    "            stops = set(stopwords.words('english'))\n",
    "            words = [w for w in words if not w in stops]\n",
    "         \n",
    "        # 5. Return a  list of words\n",
    "        return words\n",
    "    \n",
    "    # Define a function to split a review into parsed sentences.\n",
    "    @staticmethod\n",
    "    def review_to_sentences(review, tokenizer, remove_stopwords=False):\n",
    "        '''\n",
    "        Function to split a review into parsed sentences. \n",
    "        Return a list of sentences, where each sentences is a list of words.\n",
    "        '''\n",
    "        # 1. Use the NLTK tokenizer to split the paragraph into sentences\n",
    "        raw_sentences = tokenizer.tokenize(review.decode('utf8').strip())\n",
    "        \n",
    "        # 2. Loop over each sentence\n",
    "        for raw_sentence in raw_sentences:\n",
    "            # If a sentence is empty, skip it.\n",
    "            if len(raw_sentence) > 0 :\n",
    "                # Otherwise, call review_to_wordlist to get a list of words\n",
    "                sentences.append(KaggleWord2VecUtility.review_to_wordlist(raw_sentence, remove_stopwords))\n",
    "        \n",
    "        # Return the list of sentences (each sentence is a list of words, so this returns a list of lists)\n",
    "        return sentences"
   ]
  },
  {
   "cell_type": "code",
   "execution_count": 26,
   "metadata": {},
   "outputs": [
    {
     "name": "stdout",
     "output_type": "stream",
     "text": [
      "['zoe', 'var', 'currentblogapp', 'zoe', 'cb', 'enable', 'mathjax', 'false', 'var', 'islogined', 'false', 'zoe', 'posts', 'comments', 'trackbacks', 'a', 'row', 'col', 'for', 'row', 'in', 'a', 'for', 'col', 'in', 'range', 'len', 'a', 'list', 'map', 'list', 'zip', 'a', 'a', 'len', 'a', 'a', 'row', 'col', 'i', 'j', 'j', 'i', 'zip', 'map', 'zip', 'map', 'python', 'python', 'zip', 'zip', 'tuple', 'zip', 'zip', 'a', 'a', 'a', 'a', 'a', 'b', 'c', 'd', 'zip', 'zip', 'a', 'a', 'a', 'print', 'zip', 'zip', 'object', 'at', 'x', 'f', 'a', 'c', 'for', 'i', 'in', 'zip', 'print', 'i', 'zip', 'zip', 'a', 'a', 'a', 'print', 'zip', 'zip', 'object', 'at', 'x', 'f', 'a', 'd', 'for', 'j', 'in', 'zip', 'print', 'j', 'a', 'b', 'c', 'zip', 'zip', 'a', 'print', 'zip', 'zip', 'object', 'at', 'x', 'f', 'a', 'd', 'for', 'i', 'in', 'zip', 'print', 'i', 'a', 'b', 'c', 'd', 'zip', 'zip', 'a', 'print', 'zip', 'zip', 'object', 'at', 'x', 'f', 'a', 'f', 'for', 'j', 'in', 'zip', 'print', 'j', 'a', 'b', 'c', 'd', 'a', 'b', 'c', 'd', 'a', 'b', 'c', 'd', 'l', 'print', 'j', 'i', 'for', 'j', 'in', 'l', 'for', 'i', 'in', 'range', 'len', 'l', 'zip', 'l', 'zip', 'object', 'at', 'x', 'f', 'a', 'f', 'for', 'i', 'in', 'zip', 'l', 'print', 'i', 'map', 'map', 'function', 'iterable', 'map', 'float', 'def', 'lambda', 'python', 'ls', 'rs', 'map', 'str', 'ls', 'lt', 'def', 'add', 'num', 'return', 'num', 'rs', 'map', 'add', 'lt', 'print', 'rs', 'python', 'ls', 'rs', 'map', 'str', 'ls', 'print', 'rs', 'map', 'object', 'at', 'x', 'd', 'python', 'ls', 'rs', 'map', 'str', 'ls', 'print', 'list', 'rs', 'posted', 'on', 'zoe', 'var', 'allowcomments', 'true', 'cb', 'blogid', 'cb', 'entryid', 'cb', 'blogapp', 'currentblogapp', 'cb', 'bloguserguid', 'd', 'f', 'e', 'fc', 'ac', 'd', 'f', 'cc', 'cb', 'entrycreateddate', 'loadviewcount', 'cb', 'entryid', 'var', 'cb', 'posttype', 'var', 'commentmanager', 'new', 'blogcommentmanager', 'commentmanager', 'rendercomments', 'fixpostbody', 'settimeout', 'function', 'incrementviewcount', 'cb', 'entryid', 'deliveradt', 'deliveradc', 'deliveradc', 'loadnewsandkb', 'loadblogsignature', 'loadpostinfoblock', 'cb', 'blogid', 'cb', 'entryid', 'cb', 'blogapp', 'cb', 'bloguserguid', 'getprevnextpost', 'cb', 'entryid', 'cb', 'blogid', 'cb', 'entrycreateddate', 'cb', 'posttype', 'loadoptunderpost', 'gethistorytoday', 'cb', 'blogid', 'cb', 'blogapp', 'cb', 'entrycreateddate', 'loadblognews', 'loadblogdefaultcalendar', 'loadblogsidecolumn', 'copyright', 'zoe', 'powered', 'by']\n"
     ]
    }
   ],
   "source": [
    "# 测试类是否可用，其中对HTML的处理不具备普遍性，需要针对不同网站修改。\n",
    "import requests\n",
    "blog = requests.get('https://www.cnblogs.com/zoe233/p/8628566.html')\n",
    "a = KaggleWord2VecUtility.review_to_wordlist(blog.text)\n",
    "print(a)"
   ]
  },
  {
   "cell_type": "code",
   "execution_count": 28,
   "metadata": {},
   "outputs": [],
   "source": [
    "# BagOfWords.py\n",
    "import os\n",
    "from sklearn.feature_extraction.text import CountVectorizer\n",
    "from sklearn.ensemble import RandomForestClassifier\n",
    "import pandas as pd\n",
    "import numpy as np\n",
    "\n",
    "if __name__ =='__main__':\n",
    "    train = ''"
   ]
  },
  {
   "cell_type": "code",
   "execution_count": null,
   "metadata": {},
   "outputs": [],
   "source": []
  }
 ],
 "metadata": {
  "kernelspec": {
   "display_name": "Python 3",
   "language": "python",
   "name": "python3"
  },
  "language_info": {
   "codemirror_mode": {
    "name": "ipython",
    "version": 3
   },
   "file_extension": ".py",
   "mimetype": "text/x-python",
   "name": "python",
   "nbconvert_exporter": "python",
   "pygments_lexer": "ipython3",
   "version": "3.6.5"
  }
 },
 "nbformat": 4,
 "nbformat_minor": 2
}
