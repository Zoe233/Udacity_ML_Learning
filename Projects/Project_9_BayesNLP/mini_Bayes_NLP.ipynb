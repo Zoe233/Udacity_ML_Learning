{
 "cells": [
  {
   "cell_type": "markdown",
   "metadata": {},
   "source": [
    "# 贝叶斯迷你NLP项目"
   ]
  },
  {
   "cell_type": "markdown",
   "metadata": {},
   "source": [
    "## 1. 项目说明\n",
    "想象你的老板从一个信号很差的地方给你留了条消息。有几个词根本听不清。你想基于他以前给你留的一些消息的录音，填补这些剩下的词。为此，给定一些额外的消息信息，我们将使用贝叶斯公式来计算给定单词正好能填入留白处的概率。\n",
    "回想一下贝叶斯公式：\n",
    "$$ P(A|B) = \\frac {P(B|A) * P(A)} {P(B)}$$\n",
    "或者在我们这个案例中：\n",
    "$$ P(某个特定词|前后文的词) =\\frac{ P(前后文的词|某个特定词) * P(某个特定词)} {P(前后文的词)}$$\n",
    "\n"
   ]
  },
  {
   "cell_type": "markdown",
   "metadata": {},
   "source": [
    "## 2. 练习1\n",
    "![title](./info_01.png)"
   ]
  },
  {
   "cell_type": "code",
   "execution_count": 1,
   "metadata": {},
   "outputs": [
    {
     "name": "stdout",
     "output_type": "stream",
     "text": [
      "sentences number: 22\n"
     ]
    }
   ],
   "source": [
    "sentences = 'So if you could just go ahead and pack up your stuff and move it down there, that would be terrific, OK?'\n",
    "N = len(sentences.split())\n",
    "print('sentences number:', N)"
   ]
  },
  {
   "cell_type": "markdown",
   "metadata": {},
   "source": [
    "由于\"you\"出现的次数为1，\"if\"出现的次数也为1，所以\n",
    "- 单词 you 跟在单词 if 后面的概率是多少\n",
    "    因为if后面只出现了有1次，所以概率为1。\n",
    "\n",
    "- 在句子中，随机选择一个词，选到 you 的概率是多少\n",
    "    - $\\frac{1}{22}$\n",
    "\n",
    "- 在句子中，随机选择一个词，选到 if 的概率是多少\n",
    "    - $\\frac{1}{22}$"
   ]
  },
  {
   "cell_type": "markdown",
   "metadata": {},
   "source": [
    "## 3. 练习2: Maximum Likelihood\n",
    "最大可能性假设\n",
    "\n",
    "在这个练习中我们要根据前面一个单词，找出哪个单词最有可能跟在它后面\n",
    "\n",
    "实现 NextWordProbability 使得你可以传入一段话，一个词，返回一个字典。这个字典的键（keys）是出现在这个词后面的词，每个键（key）的值（value）是跟在后面这个词出现的次数。\n",
    "\n",
    "你可以用 .split() 方法来把 sample_memo 这段话中的词用空格分割开来。"
   ]
  },
  {
   "cell_type": "code",
   "execution_count": 2,
   "metadata": {},
   "outputs": [],
   "source": [
    "sample_memo = '''\n",
    "Milt, we're gonna need to go ahead and move you downstairs into storage B. We have some new people coming in, and we need all the space we can get. So if you could just go ahead and pack up your stuff and move it down there, that would be terrific, OK?\n",
    "Oh, and remember: next Friday... is Hawaiian shirt day. So, you know, if you want to, go ahead and wear a Hawaiian shirt and jeans.\n",
    "Oh, oh, and I almost forgot. Ahh, I'm also gonna need you to go ahead and come in on Sunday, too...\n",
    "Hello Peter, whats happening? Ummm, I'm gonna need you to go ahead and come in tomorrow. So if you could be here around 9 that would be great, mmmk... oh oh! and I almost forgot ahh, I'm also gonna need you to go ahead and come in on Sunday too, kay. We ahh lost some people this week and ah, we sorta need to play catch up.\n",
    "'''"
   ]
  },
  {
   "cell_type": "code",
   "execution_count": 3,
   "metadata": {},
   "outputs": [],
   "source": [
    "\n",
    "#   Maximum Likelihood Hypothesis\n",
    "#\n",
    "#   In this quiz we will find the maximum likelihood word based on the preceding word\n",
    "#\n",
    "#   Fill in the NextWordProbability procedure so that it takes in sample text and a word,\n",
    "#   and returns a dictionary with keys the set of words that come after, whose values are\n",
    "#   the number of times the key comes after that word.\n",
    "#   \n",
    "#   Just use .split() to split the sample_memo text into words separated by spaces.\n",
    "\n",
    "def NextWordProbability(sampletext,word):\n",
    "    word_list = sampletext.split()\n",
    "    dictionary = dict()\n",
    "    for i in range(len(word_list) -1 ):\n",
    "        if word_list[i] == word:\n",
    "            if word_list[i+1] in dictionary:\n",
    "                dictionary[word_list[i+1]] +=1\n",
    "            elif word_list[i+1] not in dictionary:\n",
    "                dictionary[word_list[i+1]] = 1\n",
    "    return dictionary"
   ]
  },
  {
   "cell_type": "code",
   "execution_count": 4,
   "metadata": {},
   "outputs": [
    {
     "data": {
      "text/plain": [
       "{'downstairs': 1, 'could': 2, 'know,': 1, 'want': 1, 'to': 3}"
      ]
     },
     "execution_count": 4,
     "metadata": {},
     "output_type": "execute_result"
    }
   ],
   "source": [
    "NextWordProbability(sample_memo, 'you')"
   ]
  },
  {
   "cell_type": "markdown",
   "metadata": {},
   "source": [
    "## 4.练习3：最佳分类器\n",
    "![title](./info_02.png)\n",
    "![title](./info_03.png)\n",
    "\n"
   ]
  },
  {
   "cell_type": "code",
   "execution_count": 30,
   "metadata": {},
   "outputs": [
    {
     "name": "stdout",
     "output_type": "stream",
     "text": [
      "come\n"
     ]
    }
   ],
   "source": [
    "#   Bayes Optimal Classifier 贝叶斯最佳分类器\n",
    "#\n",
    "#   In this quiz we will compute the optimal label for a second missing word in a row\n",
    "#   based on the possible words that could be in the first blank\n",
    "#\n",
    "#   Finish the procedurce, LaterWords(), below\n",
    "#\n",
    "#   You may want to import your code from the previous programming exercise!\n",
    "\n",
    "sample_memo = '''\n",
    "Milt, we're gonna need to go ahead and move you downstairs into storage B. We have some new people coming in, and we need all the space we can get. So if you could just go ahead and pack up your stuff and move it down there, that would be terrific, OK?\n",
    "Oh, and remember: next Friday... is Hawaiian shirt day. So, you know, if you want to, go ahead and wear a Hawaiian shirt and jeans.\n",
    "Oh, oh, and I almost forgot. Ahh, I'm also gonna need you to go ahead and come in on Sunday, too...\n",
    "Hello Peter, whats happening? Ummm, I'm gonna need you to go ahead and come in tomorrow. So if you could be here around 9 that would be great, mmmk... oh oh! and I almost forgot ahh, I'm also gonna need you to go ahead and come in on Sunday too, kay. We ahh lost some people this week and ah, we sorta need to play catch up.\n",
    "'''\n",
    "\n",
    "corrupted_memo = '''\n",
    "Yeah, I'm gonna --- you to go ahead --- --- complain about this. Oh, and if you could --- --- and sit at the kids' table, that'd be --- \n",
    "'''\n",
    "\n",
    "data_list = sample_memo.strip().split()\n",
    "\n",
    "words_to_guess = ['ahead', 'could']\n",
    "\n",
    "def LaterWords(sample, word, distance):\n",
    "    '''\n",
    "    @param sample: a sample of text to draw from\n",
    "    @param word: a word occuring before a corrupted sequence\n",
    "    @param distance: how many words later to estimate (i.e. 1 for the next word, 2 for the word after that)\n",
    "    @returns: a single word which is the most likely possibility\n",
    "    '''\n",
    "    # TODO: Given a word, collect the relative probabilities of possible following words\n",
    "    # from @sample. You may want to import your code from the maximum likelihood exercise.\n",
    "    dictNextWord = NextWordProbability(sample, word)\n",
    "    \n",
    "    # TODO: Repeat the above process--for each distance beyond 1, evaluate the words that\n",
    "    # might come after each word, and combine them weighting by relative probability\n",
    "    # into an estimate of what might appear next.\n",
    "    dictNextWord2 = {}\n",
    "    for key in dictNextWord.keys():\n",
    "        freq = NextWordProbability(sample, key)\n",
    "        dictNextWord2[key] = sorted(freq, key=freq.get, reverse=True)\n",
    "        \n",
    "    if distance == 1:\n",
    "        return sorted(dictNextWord, key=dictNextWord.get, reverse=True)\n",
    "    elif distance == 2:\n",
    "        firstWord = sorted(dictNextWord, key=dictNextWord.get, reverse=True)[0]\n",
    "        return dictNextWord2[firstWord][0]\n",
    "\n",
    "    \n",
    "print(LaterWords(sample_memo,\"ahead\",2))"
   ]
  },
  {
   "cell_type": "markdown",
   "metadata": {},
   "source": [
    "## 5. 练习4：词语调解\n",
    "What set of words in a memo do you think you could help predict what a missing word might be?  \n",
    "What are some advantages and disadvantages of using more of fewer possible influences in prediction?"
   ]
  },
  {
   "cell_type": "markdown",
   "metadata": {},
   "source": [
    "## 6. 练习5：联合分布分析\n",
    "If you wanted to measure the joint probability distribution of a missing word given its position relative to every other word in the document, how many probabilities would you need to measure? Say the document is N words long."
   ]
  },
  {
   "cell_type": "markdown",
   "metadata": {},
   "source": [
    "## 7. 练习6：区间知识测试\n",
    "Given the corpus of text we have from our boss, we might like to identify some things he often says, and use that knowledge to make better predictions. \n",
    "\n",
    "What are some statements you see arising multiple times?"
   ]
  },
  {
   "cell_type": "markdown",
   "metadata": {},
   "source": [
    "## 8. 练习7：区间知识填入\n",
    "We've identified the following patterns in our boss' speech:\n",
    "> 'Gonna need [you] to go ahead and '   \n",
    "> 'So if you could ... that would be [great, terrific], [ok, okay, mmmk]',    \n",
    "> 'Oh, and I almost forgot'\n",
    "\n",
    "Trying to search all regular expressions of length up to 9 with multiple optional parts is computationally infeasible. But if we have these hypothesis to begin with, we can make extremely accurate guesses. For example, fill in the blanks in the following sentence:  \n",
    "\n",
    "- Yeah, I'm gonna {} you to go {} {} not complain about this. Oh, and if you could {} ahead and sit at the kids' table, that'd be {} .\n"
   ]
  },
  {
   "cell_type": "markdown",
   "metadata": {},
   "source": [
    "- gonna {need}\n",
    "- go {ahead} {and}\n",
    "- could {go} ahead\n",
    "- be {great, terrific, ok, okay, mmmk}"
   ]
  },
  {
   "cell_type": "code",
   "execution_count": null,
   "metadata": {},
   "outputs": [],
   "source": []
  }
 ],
 "metadata": {
  "kernelspec": {
   "display_name": "Python 3",
   "language": "python",
   "name": "python3"
  },
  "language_info": {
   "codemirror_mode": {
    "name": "ipython",
    "version": 3
   },
   "file_extension": ".py",
   "mimetype": "text/x-python",
   "name": "python",
   "nbconvert_exporter": "python",
   "pygments_lexer": "ipython3",
   "version": "3.6.5"
  }
 },
 "nbformat": 4,
 "nbformat_minor": 2
}
