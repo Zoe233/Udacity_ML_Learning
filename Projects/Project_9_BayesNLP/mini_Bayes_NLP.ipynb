{
 "cells": [
  {
   "cell_type": "markdown",
   "metadata": {},
   "source": [
    "# 贝叶斯迷你NLP项目"
   ]
  },
  {
   "cell_type": "markdown",
   "metadata": {},
   "source": [
    "## 1. 项目说明\n",
    "想象你的老板从一个信号很差的地方给你留了条消息。有几个词根本听不清。你想基于他以前给你留的一些消息的录音，填补这些剩下的词。为此，给定一些额外的消息信息，我们将使用贝叶斯公式来计算给定单词正好能填入留白处的概率。\n",
    "回想一下贝叶斯公式：\n",
    "$$ P(A|B) = \\frac {P(B|A) * P(A)} {P(B)}$$\n",
    "或者在我们这个案例中：\n",
    "$$ P(某个特定词|前后文的词) =\\frac{ P(前后文的词|某个特定词) * P(某个特定词)} {P(前后文的词)}$$\n",
    "\n"
   ]
  },
  {
   "cell_type": "markdown",
   "metadata": {},
   "source": [
    "## 2. 练习1\n",
    "![title](./info_01.png)"
   ]
  },
  {
   "cell_type": "code",
   "execution_count": 23,
   "metadata": {},
   "outputs": [
    {
     "name": "stdout",
     "output_type": "stream",
     "text": [
      "sentences number: 22\n"
     ]
    }
   ],
   "source": [
    "sentences = 'So if you could just go ahead and pack up your stuff and move it down there, that would be terrific, OK?'\n",
    "N = len(sentences.split())\n",
    "print('sentences number:', N)"
   ]
  },
  {
   "cell_type": "markdown",
   "metadata": {},
   "source": [
    "由于\"you\"出现的次数为1，\"if\"出现的次数也为1，所以\n",
    "- 单词 you 跟在单词 if 后面的概率是多少\n",
    "    因为if后面只出现了有1次，所以概率为1。\n",
    "\n",
    "- 在句子中，随机选择一个词，选到 you 的概率是多少\n",
    "    - $\\frac{1}{22}$\n",
    "\n",
    "- 在句子中，随机选择一个词，选到 if 的概率是多少\n",
    "    - $\\frac{1}{22}$"
   ]
  },
  {
   "cell_type": "markdown",
   "metadata": {},
   "source": [
    "## 3. 练习2: Maximum Likelihood\n",
    "最大可能性假设\n",
    "\n",
    "在这个练习中我们要根据前面一个单词，找出哪个单词最有可能跟在它后面\n",
    "\n",
    "实现 NextWordProbability 使得你可以传入一段话，一个词，返回一个字典。这个字典的键（keys）是出现在这个词后面的词，每个键（key）的值（value）是跟在后面这个词出现的次数。\n",
    "\n",
    "你可以用 .split() 方法来把 sample_memo 这段话中的词用空格分割开来。"
   ]
  },
  {
   "cell_type": "code",
   "execution_count": 24,
   "metadata": {},
   "outputs": [],
   "source": [
    "sample_memo = '''\n",
    "Milt, we're gonna need to go ahead and move you downstairs into storage B. We have some new people coming in, and we need all the space we can get. So if you could just go ahead and pack up your stuff and move it down there, that would be terrific, OK?\n",
    "Oh, and remember: next Friday... is Hawaiian shirt day. So, you know, if you want to, go ahead and wear a Hawaiian shirt and jeans.\n",
    "Oh, oh, and I almost forgot. Ahh, I'm also gonna need you to go ahead and come in on Sunday, too...\n",
    "Hello Peter, whats happening? Ummm, I'm gonna need you to go ahead and come in tomorrow. So if you could be here around 9 that would be great, mmmk... oh oh! and I almost forgot ahh, I'm also gonna need you to go ahead and come in on Sunday too, kay. We ahh lost some people this week and ah, we sorta need to play catch up.\n",
    "'''"
   ]
  },
  {
   "cell_type": "code",
   "execution_count": 25,
   "metadata": {},
   "outputs": [],
   "source": [
    "\n",
    "#   Maximum Likelihood Hypothesis\n",
    "#\n",
    "#   In this quiz we will find the maximum likelihood word based on the preceding word\n",
    "#\n",
    "#   Fill in the NextWordProbability procedure so that it takes in sample text and a word,\n",
    "#   and returns a dictionary with keys the set of words that come after, whose values are\n",
    "#   the number of times the key comes after that word.\n",
    "#   \n",
    "#   Just use .split() to split the sample_memo text into words separated by spaces.\n",
    "\n",
    "def NextWordProbability(sampletext,word):\n",
    "    word_list = sampletext.split()\n",
    "    dictionary = dict()\n",
    "    for i in range(len(word_list) -1 ):\n",
    "        if word_list[i] == word:\n",
    "            if word_list[i+1] in dictionary:\n",
    "                dictionary[word_list[i+1]] +=1\n",
    "            elif word_list[i+1] not in dictionary:\n",
    "                dictionary[word_list[i+1]] = 1\n",
    "    return dictionary"
   ]
  },
  {
   "cell_type": "code",
   "execution_count": 26,
   "metadata": {},
   "outputs": [
    {
     "data": {
      "text/plain": [
       "{'downstairs': 1, 'could': 2, 'know,': 1, 'want': 1, 'to': 3}"
      ]
     },
     "execution_count": 26,
     "metadata": {},
     "output_type": "execute_result"
    }
   ],
   "source": [
    "NextWordProbability(sample_memo, 'you')"
   ]
  },
  {
   "cell_type": "markdown",
   "metadata": {},
   "source": [
    "## 4.练习3：最佳分类器\n",
    "![title](./info_02.png)"
   ]
  },
  {
   "cell_type": "code",
   "execution_count": null,
   "metadata": {},
   "outputs": [],
   "source": []
  }
 ],
 "metadata": {
  "kernelspec": {
   "display_name": "Python 3",
   "language": "python",
   "name": "python3"
  },
  "language_info": {
   "codemirror_mode": {
    "name": "ipython",
    "version": 3
   },
   "file_extension": ".py",
   "mimetype": "text/x-python",
   "name": "python",
   "nbconvert_exporter": "python",
   "pygments_lexer": "ipython3",
   "version": "3.6.5"
  }
 },
 "nbformat": 4,
 "nbformat_minor": 2
}
